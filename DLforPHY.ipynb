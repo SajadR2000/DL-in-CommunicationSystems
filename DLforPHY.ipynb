{
  "nbformat": 4,
  "nbformat_minor": 0,
  "metadata": {
    "colab": {
      "name": "DLforPHY.ipynb",
      "provenance": [],
      "collapsed_sections": []
    },
    "kernelspec": {
      "name": "python3",
      "display_name": "Python 3"
    },
    "language_info": {
      "name": "python"
    }
  },
  "cells": [
    {
      "cell_type": "code",
      "metadata": {
        "id": "Nauy7A6Ysz5F"
      },
      "source": [
        "import numpy as np\n",
        "import matplotlib.pyplot as plt\n",
        "import pandas as pd\n",
        "import tensorflow as tf\n",
        "from tensorflow.keras.models import Sequential\n",
        "from tensorflow.keras.layers import Dense, GaussianNoise, InputLayer, Lambda\n",
        "from keras import backend as K"
      ],
      "execution_count": 15,
      "outputs": []
    },
    {
      "cell_type": "code",
      "metadata": {
        "id": "6APaTGxOvnNe"
      },
      "source": [
        "k = 2\n",
        "n = 2\n",
        "M = 2 ** k\n",
        "R = k * 1. / n\n",
        "training_snr_db = np.array([3.0, 7.0, 8.0])\n",
        "training_snr_linear = 10 ** training_snr_db / 10\n",
        "training_sigma2 = 1. / (2 * R * training_snr_linear)"
      ],
      "execution_count": 29,
      "outputs": []
    },
    {
      "cell_type": "code",
      "metadata": {
        "id": "7N0reIp1tVFq"
      },
      "source": [
        "class AutoEncoder(tf.keras.Model):\n",
        "    def __init__(self, M, n, sigma2, **kwargs):\n",
        "        super(AutoEncoder, self).__init__(**kwargs)\n",
        "\n",
        "        self.sigma = np.sqrt(np.array(sigma2))\n",
        "        self.transmitter = Sequential([\n",
        "                                InputLayer(input_shape=(M,)),\n",
        "                                Dense(M, activation='ReLU', use_bias=True),\n",
        "                                Dense(n, activation='linear', use_bias=True),\n",
        "                                Lambda(lambda obs: tf.math.sqrt(n * 1.0) *\n",
        "                                              K.l2_normalize(obs, axis=1\n",
        "                                                             ))\n",
        "        ])\n",
        "\n",
        "        self.receiver = Sequential([\n",
        "                                Dense(M, activation='ReLU', use_bias=True),\n",
        "                                Dense(M, activation='softmax', use_bias=True)\n",
        "        ])\n",
        "\n",
        "    def call(self, inputs):\n",
        "        z = self.transmitter(inputs)\n",
        "        what_snr = np.random.choice(np.arange(len(self.sigma)), size=1)\n",
        "        chann = GaussianNoise(stddev=self.sigma[what_snr])\n",
        "        z = chann(z)\n",
        "        z = self.receiver(z)\n",
        "        return z"
      ],
      "execution_count": 30,
      "outputs": []
    },
    {
      "cell_type": "code",
      "metadata": {
        "id": "4JaxbkGxvcGA"
      },
      "source": [
        "n_samples = 200000\n",
        "X_train = np.eye(M)[np.random.choice(M, n_samples)]\n",
        "Y_train = X_train.copy()"
      ],
      "execution_count": 31,
      "outputs": []
    },
    {
      "cell_type": "code",
      "metadata": {
        "id": "ythn6b8hwyun"
      },
      "source": [
        "batch_size = 256\n",
        "n_epochs = 100"
      ],
      "execution_count": 32,
      "outputs": []
    },
    {
      "cell_type": "code",
      "metadata": {
        "id": "ujG55-XCxEpM"
      },
      "source": [
        "model = AutoEncoder(M, n, training_sigma2)\n",
        "model.compile(optimizer='adam',\n",
        "              loss='categorical_crossentropy',\n",
        "              metrics=['accuracy'])"
      ],
      "execution_count": 33,
      "outputs": []
    },
    {
      "cell_type": "code",
      "metadata": {
        "colab": {
          "base_uri": "https://localhost:8080/"
        },
        "id": "B2FeGqg9xaI8",
        "outputId": "972fad40-6e86-4551-9307-42ade55f73e7"
      },
      "source": [
        "history = model.fit(x=X_train,\n",
        "                    y=Y_train,\n",
        "                    epochs=n_epochs,\n",
        "                    batch_size=batch_size,\n",
        "                    validation_split=0.1)"
      ],
      "execution_count": 34,
      "outputs": [
        {
          "output_type": "stream",
          "name": "stdout",
          "text": [
            "Epoch 1/100\n",
            "704/704 [==============================] - 2s 2ms/step - loss: 0.6779 - accuracy: 0.8641 - val_loss: 0.1810 - val_accuracy: 1.0000\n",
            "Epoch 2/100\n",
            "704/704 [==============================] - 1s 2ms/step - loss: 0.0670 - accuracy: 1.0000 - val_loss: 0.0237 - val_accuracy: 1.0000\n",
            "Epoch 3/100\n",
            "704/704 [==============================] - 1s 1ms/step - loss: 0.0142 - accuracy: 1.0000 - val_loss: 0.0083 - val_accuracy: 1.0000\n",
            "Epoch 4/100\n",
            "704/704 [==============================] - 1s 2ms/step - loss: 0.0058 - accuracy: 1.0000 - val_loss: 0.0039 - val_accuracy: 1.0000\n",
            "Epoch 5/100\n",
            "704/704 [==============================] - 1s 2ms/step - loss: 0.0029 - accuracy: 1.0000 - val_loss: 0.0021 - val_accuracy: 1.0000\n",
            "Epoch 6/100\n",
            "704/704 [==============================] - 1s 2ms/step - loss: 0.0016 - accuracy: 1.0000 - val_loss: 0.0012 - val_accuracy: 1.0000\n",
            "Epoch 7/100\n",
            "704/704 [==============================] - 1s 1ms/step - loss: 9.8461e-04 - accuracy: 1.0000 - val_loss: 7.6385e-04 - val_accuracy: 1.0000\n",
            "Epoch 8/100\n",
            "704/704 [==============================] - 1s 1ms/step - loss: 6.1181e-04 - accuracy: 1.0000 - val_loss: 4.8192e-04 - val_accuracy: 1.0000\n",
            "Epoch 9/100\n",
            "704/704 [==============================] - 1s 2ms/step - loss: 3.8986e-04 - accuracy: 1.0000 - val_loss: 3.1030e-04 - val_accuracy: 1.0000\n",
            "Epoch 10/100\n",
            "704/704 [==============================] - 1s 1ms/step - loss: 2.5275e-04 - accuracy: 1.0000 - val_loss: 2.0263e-04 - val_accuracy: 1.0000\n",
            "Epoch 11/100\n",
            "704/704 [==============================] - 1s 1ms/step - loss: 1.6586e-04 - accuracy: 1.0000 - val_loss: 1.3365e-04 - val_accuracy: 1.0000\n",
            "Epoch 12/100\n",
            "704/704 [==============================] - 1s 1ms/step - loss: 1.0979e-04 - accuracy: 1.0000 - val_loss: 8.8805e-05 - val_accuracy: 1.0000\n",
            "Epoch 13/100\n",
            "704/704 [==============================] - 1s 1ms/step - loss: 7.3146e-05 - accuracy: 1.0000 - val_loss: 5.9303e-05 - val_accuracy: 1.0000\n",
            "Epoch 14/100\n",
            "704/704 [==============================] - 1s 1ms/step - loss: 4.8964e-05 - accuracy: 1.0000 - val_loss: 3.9814e-05 - val_accuracy: 1.0000\n",
            "Epoch 15/100\n",
            "704/704 [==============================] - 1s 1ms/step - loss: 3.2903e-05 - accuracy: 1.0000 - val_loss: 2.6791e-05 - val_accuracy: 1.0000\n",
            "Epoch 16/100\n",
            "704/704 [==============================] - 1s 2ms/step - loss: 2.2176e-05 - accuracy: 1.0000 - val_loss: 1.8088e-05 - val_accuracy: 1.0000\n",
            "Epoch 17/100\n",
            "704/704 [==============================] - 1s 2ms/step - loss: 1.4982e-05 - accuracy: 1.0000 - val_loss: 1.2218e-05 - val_accuracy: 1.0000\n",
            "Epoch 18/100\n",
            "704/704 [==============================] - 1s 2ms/step - loss: 1.0144e-05 - accuracy: 1.0000 - val_loss: 8.2841e-06 - val_accuracy: 1.0000\n",
            "Epoch 19/100\n",
            "704/704 [==============================] - 1s 2ms/step - loss: 6.8811e-06 - accuracy: 1.0000 - val_loss: 5.6322e-06 - val_accuracy: 1.0000\n",
            "Epoch 20/100\n",
            "704/704 [==============================] - 1s 1ms/step - loss: 4.6818e-06 - accuracy: 1.0000 - val_loss: 3.8143e-06 - val_accuracy: 1.0000\n",
            "Epoch 21/100\n",
            "704/704 [==============================] - 1s 2ms/step - loss: 3.1690e-06 - accuracy: 1.0000 - val_loss: 2.6226e-06 - val_accuracy: 1.0000\n",
            "Epoch 22/100\n",
            "704/704 [==============================] - 1s 1ms/step - loss: 2.1609e-06 - accuracy: 1.0000 - val_loss: 1.7576e-06 - val_accuracy: 1.0000\n",
            "Epoch 23/100\n",
            "704/704 [==============================] - 1s 1ms/step - loss: 1.4754e-06 - accuracy: 1.0000 - val_loss: 1.2215e-06 - val_accuracy: 1.0000\n",
            "Epoch 24/100\n",
            "704/704 [==============================] - 1s 2ms/step - loss: 9.9966e-07 - accuracy: 1.0000 - val_loss: 8.3408e-07 - val_accuracy: 1.0000\n",
            "Epoch 25/100\n",
            "704/704 [==============================] - 1s 2ms/step - loss: 6.8852e-07 - accuracy: 1.0000 - val_loss: 5.6623e-07 - val_accuracy: 1.0000\n",
            "Epoch 26/100\n",
            "704/704 [==============================] - 1s 1ms/step - loss: 4.8012e-07 - accuracy: 1.0000 - val_loss: 3.8780e-07 - val_accuracy: 1.0000\n",
            "Epoch 27/100\n",
            "704/704 [==============================] - 1s 2ms/step - loss: 3.0408e-07 - accuracy: 1.0000 - val_loss: 2.6785e-07 - val_accuracy: 1.0000\n",
            "Epoch 28/100\n",
            "704/704 [==============================] - 1s 1ms/step - loss: 2.3749e-07 - accuracy: 1.0000 - val_loss: 1.7843e-07 - val_accuracy: 1.0000\n",
            "Epoch 29/100\n",
            "704/704 [==============================] - 1s 1ms/step - loss: 1.3122e-07 - accuracy: 1.0000 - val_loss: 8.9782e-08 - val_accuracy: 1.0000\n",
            "Epoch 30/100\n",
            "704/704 [==============================] - 1s 2ms/step - loss: 7.4108e-08 - accuracy: 1.0000 - val_loss: 3.0172e-08 - val_accuracy: 1.0000\n",
            "Epoch 31/100\n",
            "704/704 [==============================] - 1s 2ms/step - loss: 1.0202e-08 - accuracy: 1.0000 - val_loss: 0.0000e+00 - val_accuracy: 1.0000\n",
            "Epoch 32/100\n",
            "704/704 [==============================] - 1s 2ms/step - loss: 0.0000e+00 - accuracy: 1.0000 - val_loss: 0.0000e+00 - val_accuracy: 1.0000\n",
            "Epoch 33/100\n",
            "704/704 [==============================] - 1s 2ms/step - loss: 0.0000e+00 - accuracy: 1.0000 - val_loss: 0.0000e+00 - val_accuracy: 1.0000\n",
            "Epoch 34/100\n",
            "704/704 [==============================] - 1s 2ms/step - loss: 0.0000e+00 - accuracy: 1.0000 - val_loss: 0.0000e+00 - val_accuracy: 1.0000\n",
            "Epoch 35/100\n",
            "704/704 [==============================] - 1s 2ms/step - loss: 0.0000e+00 - accuracy: 1.0000 - val_loss: 0.0000e+00 - val_accuracy: 1.0000\n",
            "Epoch 36/100\n",
            "704/704 [==============================] - 1s 1ms/step - loss: 0.0000e+00 - accuracy: 1.0000 - val_loss: 0.0000e+00 - val_accuracy: 1.0000\n",
            "Epoch 37/100\n",
            "704/704 [==============================] - 1s 2ms/step - loss: 0.0000e+00 - accuracy: 1.0000 - val_loss: 0.0000e+00 - val_accuracy: 1.0000\n",
            "Epoch 38/100\n",
            "704/704 [==============================] - 1s 1ms/step - loss: 0.0000e+00 - accuracy: 1.0000 - val_loss: 0.0000e+00 - val_accuracy: 1.0000\n",
            "Epoch 39/100\n",
            "704/704 [==============================] - 1s 2ms/step - loss: 0.0000e+00 - accuracy: 1.0000 - val_loss: 0.0000e+00 - val_accuracy: 1.0000\n",
            "Epoch 40/100\n",
            "704/704 [==============================] - 1s 2ms/step - loss: 0.0000e+00 - accuracy: 1.0000 - val_loss: 0.0000e+00 - val_accuracy: 1.0000\n",
            "Epoch 41/100\n",
            "704/704 [==============================] - 1s 1ms/step - loss: 0.0000e+00 - accuracy: 1.0000 - val_loss: 0.0000e+00 - val_accuracy: 1.0000\n",
            "Epoch 42/100\n",
            "704/704 [==============================] - 1s 2ms/step - loss: 0.0000e+00 - accuracy: 1.0000 - val_loss: 0.0000e+00 - val_accuracy: 1.0000\n",
            "Epoch 43/100\n",
            "704/704 [==============================] - 1s 2ms/step - loss: 0.0000e+00 - accuracy: 1.0000 - val_loss: 0.0000e+00 - val_accuracy: 1.0000\n",
            "Epoch 44/100\n",
            "704/704 [==============================] - 1s 2ms/step - loss: 0.0000e+00 - accuracy: 1.0000 - val_loss: 0.0000e+00 - val_accuracy: 1.0000\n",
            "Epoch 45/100\n",
            "704/704 [==============================] - 1s 2ms/step - loss: 0.0000e+00 - accuracy: 1.0000 - val_loss: 0.0000e+00 - val_accuracy: 1.0000\n",
            "Epoch 46/100\n",
            "704/704 [==============================] - 1s 1ms/step - loss: 0.0000e+00 - accuracy: 1.0000 - val_loss: 0.0000e+00 - val_accuracy: 1.0000\n",
            "Epoch 47/100\n",
            "704/704 [==============================] - 1s 2ms/step - loss: 0.0000e+00 - accuracy: 1.0000 - val_loss: 0.0000e+00 - val_accuracy: 1.0000\n",
            "Epoch 48/100\n",
            "704/704 [==============================] - 1s 1ms/step - loss: 0.0000e+00 - accuracy: 1.0000 - val_loss: 0.0000e+00 - val_accuracy: 1.0000\n",
            "Epoch 49/100\n",
            "704/704 [==============================] - 1s 1ms/step - loss: 0.0000e+00 - accuracy: 1.0000 - val_loss: 0.0000e+00 - val_accuracy: 1.0000\n",
            "Epoch 50/100\n",
            "704/704 [==============================] - 1s 1ms/step - loss: 0.0000e+00 - accuracy: 1.0000 - val_loss: 0.0000e+00 - val_accuracy: 1.0000\n",
            "Epoch 51/100\n",
            "704/704 [==============================] - 1s 1ms/step - loss: 0.0000e+00 - accuracy: 1.0000 - val_loss: 0.0000e+00 - val_accuracy: 1.0000\n",
            "Epoch 52/100\n",
            "704/704 [==============================] - 1s 1ms/step - loss: 0.0000e+00 - accuracy: 1.0000 - val_loss: 0.0000e+00 - val_accuracy: 1.0000\n",
            "Epoch 53/100\n",
            "704/704 [==============================] - 1s 2ms/step - loss: 0.0000e+00 - accuracy: 1.0000 - val_loss: 0.0000e+00 - val_accuracy: 1.0000\n",
            "Epoch 54/100\n",
            "704/704 [==============================] - 1s 1ms/step - loss: 0.0000e+00 - accuracy: 1.0000 - val_loss: 0.0000e+00 - val_accuracy: 1.0000\n",
            "Epoch 55/100\n",
            "704/704 [==============================] - 1s 1ms/step - loss: 0.0000e+00 - accuracy: 1.0000 - val_loss: 0.0000e+00 - val_accuracy: 1.0000\n",
            "Epoch 56/100\n",
            "704/704 [==============================] - 1s 1ms/step - loss: 0.0000e+00 - accuracy: 1.0000 - val_loss: 0.0000e+00 - val_accuracy: 1.0000\n",
            "Epoch 57/100\n",
            "704/704 [==============================] - 1s 2ms/step - loss: 0.0000e+00 - accuracy: 1.0000 - val_loss: 0.0000e+00 - val_accuracy: 1.0000\n",
            "Epoch 58/100\n",
            "704/704 [==============================] - 1s 1ms/step - loss: 0.0000e+00 - accuracy: 1.0000 - val_loss: 0.0000e+00 - val_accuracy: 1.0000\n",
            "Epoch 59/100\n",
            "704/704 [==============================] - 1s 2ms/step - loss: 0.0000e+00 - accuracy: 1.0000 - val_loss: 0.0000e+00 - val_accuracy: 1.0000\n",
            "Epoch 60/100\n",
            "704/704 [==============================] - 1s 2ms/step - loss: 0.0000e+00 - accuracy: 1.0000 - val_loss: 0.0000e+00 - val_accuracy: 1.0000\n",
            "Epoch 61/100\n",
            "704/704 [==============================] - 1s 1ms/step - loss: 0.0000e+00 - accuracy: 1.0000 - val_loss: 0.0000e+00 - val_accuracy: 1.0000\n",
            "Epoch 62/100\n",
            "704/704 [==============================] - 1s 2ms/step - loss: 0.0000e+00 - accuracy: 1.0000 - val_loss: 0.0000e+00 - val_accuracy: 1.0000\n",
            "Epoch 63/100\n",
            "704/704 [==============================] - 1s 1ms/step - loss: 0.0000e+00 - accuracy: 1.0000 - val_loss: 0.0000e+00 - val_accuracy: 1.0000\n",
            "Epoch 64/100\n",
            "704/704 [==============================] - 1s 1ms/step - loss: 0.0000e+00 - accuracy: 1.0000 - val_loss: 0.0000e+00 - val_accuracy: 1.0000\n",
            "Epoch 65/100\n",
            "704/704 [==============================] - 1s 2ms/step - loss: 0.0000e+00 - accuracy: 1.0000 - val_loss: 0.0000e+00 - val_accuracy: 1.0000\n",
            "Epoch 66/100\n",
            "704/704 [==============================] - 1s 1ms/step - loss: 0.0000e+00 - accuracy: 1.0000 - val_loss: 0.0000e+00 - val_accuracy: 1.0000\n",
            "Epoch 67/100\n",
            "704/704 [==============================] - 1s 2ms/step - loss: 0.0000e+00 - accuracy: 1.0000 - val_loss: 0.0000e+00 - val_accuracy: 1.0000\n",
            "Epoch 68/100\n",
            "704/704 [==============================] - 1s 2ms/step - loss: 0.0000e+00 - accuracy: 1.0000 - val_loss: 0.0000e+00 - val_accuracy: 1.0000\n",
            "Epoch 69/100\n",
            "704/704 [==============================] - 1s 2ms/step - loss: 0.0000e+00 - accuracy: 1.0000 - val_loss: 0.0000e+00 - val_accuracy: 1.0000\n",
            "Epoch 70/100\n",
            "704/704 [==============================] - 1s 2ms/step - loss: 0.0000e+00 - accuracy: 1.0000 - val_loss: 0.0000e+00 - val_accuracy: 1.0000\n",
            "Epoch 71/100\n",
            "704/704 [==============================] - 1s 2ms/step - loss: 0.0000e+00 - accuracy: 1.0000 - val_loss: 0.0000e+00 - val_accuracy: 1.0000\n",
            "Epoch 72/100\n",
            "704/704 [==============================] - 1s 1ms/step - loss: 0.0000e+00 - accuracy: 1.0000 - val_loss: 0.0000e+00 - val_accuracy: 1.0000\n",
            "Epoch 73/100\n",
            "704/704 [==============================] - 1s 1ms/step - loss: 0.0000e+00 - accuracy: 1.0000 - val_loss: 0.0000e+00 - val_accuracy: 1.0000\n",
            "Epoch 74/100\n",
            "704/704 [==============================] - 1s 2ms/step - loss: 0.0000e+00 - accuracy: 1.0000 - val_loss: 0.0000e+00 - val_accuracy: 1.0000\n",
            "Epoch 75/100\n",
            "704/704 [==============================] - 1s 1ms/step - loss: 0.0000e+00 - accuracy: 1.0000 - val_loss: 0.0000e+00 - val_accuracy: 1.0000\n",
            "Epoch 76/100\n",
            "704/704 [==============================] - 1s 2ms/step - loss: 0.0000e+00 - accuracy: 1.0000 - val_loss: 0.0000e+00 - val_accuracy: 1.0000\n",
            "Epoch 77/100\n",
            "704/704 [==============================] - 1s 2ms/step - loss: 0.0000e+00 - accuracy: 1.0000 - val_loss: 0.0000e+00 - val_accuracy: 1.0000\n",
            "Epoch 78/100\n",
            "704/704 [==============================] - 1s 1ms/step - loss: 0.0000e+00 - accuracy: 1.0000 - val_loss: 0.0000e+00 - val_accuracy: 1.0000\n",
            "Epoch 79/100\n",
            "704/704 [==============================] - 1s 2ms/step - loss: 0.0000e+00 - accuracy: 1.0000 - val_loss: 0.0000e+00 - val_accuracy: 1.0000\n",
            "Epoch 80/100\n",
            "704/704 [==============================] - 1s 2ms/step - loss: 0.0000e+00 - accuracy: 1.0000 - val_loss: 0.0000e+00 - val_accuracy: 1.0000\n",
            "Epoch 81/100\n",
            "704/704 [==============================] - 1s 2ms/step - loss: 0.0000e+00 - accuracy: 1.0000 - val_loss: 0.0000e+00 - val_accuracy: 1.0000\n",
            "Epoch 82/100\n",
            "704/704 [==============================] - 1s 1ms/step - loss: 0.0000e+00 - accuracy: 1.0000 - val_loss: 0.0000e+00 - val_accuracy: 1.0000\n",
            "Epoch 83/100\n",
            "704/704 [==============================] - 1s 2ms/step - loss: 0.0000e+00 - accuracy: 1.0000 - val_loss: 0.0000e+00 - val_accuracy: 1.0000\n",
            "Epoch 84/100\n",
            "704/704 [==============================] - 1s 2ms/step - loss: 0.0000e+00 - accuracy: 1.0000 - val_loss: 0.0000e+00 - val_accuracy: 1.0000\n",
            "Epoch 85/100\n",
            "704/704 [==============================] - 1s 2ms/step - loss: 0.0000e+00 - accuracy: 1.0000 - val_loss: 0.0000e+00 - val_accuracy: 1.0000\n",
            "Epoch 86/100\n",
            "704/704 [==============================] - 1s 2ms/step - loss: 0.0000e+00 - accuracy: 1.0000 - val_loss: 0.0000e+00 - val_accuracy: 1.0000\n",
            "Epoch 87/100\n",
            "704/704 [==============================] - 1s 2ms/step - loss: 0.0000e+00 - accuracy: 1.0000 - val_loss: 0.0000e+00 - val_accuracy: 1.0000\n",
            "Epoch 88/100\n",
            "704/704 [==============================] - 1s 2ms/step - loss: 0.0000e+00 - accuracy: 1.0000 - val_loss: 0.0000e+00 - val_accuracy: 1.0000\n",
            "Epoch 89/100\n",
            "704/704 [==============================] - 1s 1ms/step - loss: 0.0000e+00 - accuracy: 1.0000 - val_loss: 0.0000e+00 - val_accuracy: 1.0000\n",
            "Epoch 90/100\n",
            "704/704 [==============================] - 1s 2ms/step - loss: 0.0000e+00 - accuracy: 1.0000 - val_loss: 0.0000e+00 - val_accuracy: 1.0000\n",
            "Epoch 91/100\n",
            "704/704 [==============================] - 1s 2ms/step - loss: 0.0000e+00 - accuracy: 1.0000 - val_loss: 0.0000e+00 - val_accuracy: 1.0000\n",
            "Epoch 92/100\n",
            "704/704 [==============================] - 1s 2ms/step - loss: 0.0000e+00 - accuracy: 1.0000 - val_loss: 0.0000e+00 - val_accuracy: 1.0000\n",
            "Epoch 93/100\n",
            "704/704 [==============================] - 1s 2ms/step - loss: 0.0000e+00 - accuracy: 1.0000 - val_loss: 0.0000e+00 - val_accuracy: 1.0000\n",
            "Epoch 94/100\n",
            "704/704 [==============================] - 1s 2ms/step - loss: 0.0000e+00 - accuracy: 1.0000 - val_loss: 0.0000e+00 - val_accuracy: 1.0000\n",
            "Epoch 95/100\n",
            "704/704 [==============================] - 1s 1ms/step - loss: 0.0000e+00 - accuracy: 1.0000 - val_loss: 0.0000e+00 - val_accuracy: 1.0000\n",
            "Epoch 96/100\n",
            "704/704 [==============================] - 1s 2ms/step - loss: 0.0000e+00 - accuracy: 1.0000 - val_loss: 0.0000e+00 - val_accuracy: 1.0000\n",
            "Epoch 97/100\n",
            "704/704 [==============================] - 1s 2ms/step - loss: 0.0000e+00 - accuracy: 1.0000 - val_loss: 0.0000e+00 - val_accuracy: 1.0000\n",
            "Epoch 98/100\n",
            "704/704 [==============================] - 1s 1ms/step - loss: 0.0000e+00 - accuracy: 1.0000 - val_loss: 0.0000e+00 - val_accuracy: 1.0000\n",
            "Epoch 99/100\n",
            "704/704 [==============================] - 1s 2ms/step - loss: 0.0000e+00 - accuracy: 1.0000 - val_loss: 0.0000e+00 - val_accuracy: 1.0000\n",
            "Epoch 100/100\n",
            "704/704 [==============================] - 1s 2ms/step - loss: 0.0000e+00 - accuracy: 1.0000 - val_loss: 0.0000e+00 - val_accuracy: 1.0000\n"
          ]
        }
      ]
    },
    {
      "cell_type": "code",
      "metadata": {
        "colab": {
          "base_uri": "https://localhost:8080/",
          "height": 324
        },
        "id": "sgnVNqNYxtzT",
        "outputId": "5bc808ee-5e61-4fe4-ca44-c44d139c3735"
      },
      "source": [
        "pd.DataFrame(history.history).plot(figsize=(8, 5))\n",
        "plt.grid(True)\n",
        "plt.gca().set_ylim(0, 1) # set the vertical range to [0-1]\n",
        "plt.savefig('history.jpg')\n",
        "plt.show()"
      ],
      "execution_count": 35,
      "outputs": [
        {
          "output_type": "display_data",
          "data": {
            "image/png": "[encoded data removed]",
            "text/plain": [
              "<Figure size 576x360 with 1 Axes>"
            ]
          },
          "metadata": {
            "needs_background": "light"
          }
        }
      ]
    },
    {
      "cell_type": "code",
      "metadata": {
        "id": "yqUHEKUtyjuP"
      },
      "source": [
        "snr_vec_db = np.linspace(-2, 10, 20)\n",
        "snr_vec = 10. ** (snr_vec_db / 10)\n",
        "sigma2_vec = 1. / (2 * R * snr_vec)\n",
        "bler_autoencoder = np.zeros(sigma2_vec.shape)\n",
        "X_test = np.eye(M)[np.random.choice(M, n_samples * 10)]\n",
        "Y_test = X_test.copy()"
      ],
      "execution_count": 36,
      "outputs": []
    },
    {
      "cell_type": "code",
      "metadata": {
        "id": "VsDDu8GOz4g1"
      },
      "source": [
        "for i in range(len(sigma2_vec)):\n",
        "    x = model.transmitter(X_test)\n",
        "    y = x + tf.random.normal(x.shape, mean=0.0, stddev=sigma2_vec[i] ** 0.5)\n",
        "    s_pred = np.array(model.receiver(y))\n",
        "    bler_autoencoder[i] = np.sum(s_pred.argmax(axis=1) != Y_test.argmax(axis=1)) / Y_test.shape[0]"
      ],
      "execution_count": 37,
      "outputs": []
    },
    {
      "cell_type": "code",
      "metadata": {
        "id": "Kd74kCE93Nqn"
      },
      "source": [
        "bler_uncodedBPSK = [2.43746667e-01, 2.12800000e-01, 1.84053333e-01,\n",
        "                    1.55770000e-01, 1.29110000e-01, 1.02463333e-01,\n",
        "                    8.01300000e-02, 6.08866667e-02, 4.36866667e-02,\n",
        "                    3.02933333e-02, 1.97366667e-02, 1.24433333e-02,\n",
        "                    7.16333333e-03, 3.99000000e-03, 1.84666667e-03,\n",
        "                    8.13333333e-04, 3.00000000e-04, 1.20000000e-04,\n",
        "                    4.66666667e-05, 1.33333333e-05]"
      ],
      "execution_count": 38,
      "outputs": []
    },
    {
      "cell_type": "code",
      "metadata": {
        "colab": {
          "base_uri": "https://localhost:8080/",
          "height": 283
        },
        "id": "PYtRkQDH0XV8",
        "outputId": "cdf6bbc1-4ba5-4a31-d6fb-7e55d39d4fa2"
      },
      "source": [
        "plt.figure()\n",
        "plt.semilogy(snr_vec_db, bler_autoencoder, 'r', label=\"Autoencoder(2,2)\")\n",
        "plt.semilogy(snr_vec_db, bler_uncodedBPSK, 'b.', label=\"Uncoded BPSK (2,2)\")\n",
        "plt.grid(True)\n",
        "plt.ylabel(\"Block error rate\")\n",
        "plt.xlabel(\"$E_b/N_0$[dB]\")\n",
        "plt.legend()\n",
        "plt.savefig('bler.jpg')\n",
        "plt.show()"
      ],
      "execution_count": 39,
      "outputs": [
        {
          "output_type": "display_data",
          "data": {
            "image/png": "[encoded data removed]",
            "text/plain": [
              "<Figure size 432x288 with 1 Axes>"
            ]
          },
          "metadata": {
            "needs_background": "light"
          }
        }
      ]
    },
    {
      "cell_type": "code",
      "metadata": {
        "colab": {
          "base_uri": "https://localhost:8080/",
          "height": 281
        },
        "id": "cPHINJmw1G_p",
        "outputId": "d70ea362-13f2-4bf9-8d4a-720221aab0d8"
      },
      "source": [
        "# Valid Only for n = 2\n",
        "if n == 2:\n",
        "    symbols = np.eye(M)\n",
        "    x = model.transmitter(symbols)\n",
        "\n",
        "    plt.figure()\n",
        "    plt.scatter(x[:, 0], x[:, 1], color=\"black\")\n",
        "    plt.title(\"Learned Constellation\")\n",
        "    plt.grid()\n",
        "    plt.savefig('constellation.jpg')\n",
        "    plt.show()\n",
        "else:\n",
        "    pass"
      ],
      "execution_count": 40,
      "outputs": [
        {
          "output_type": "display_data",
          "data": {
            "image/png": "[encoded data removed]",
            "text/plain": [
              "<Figure size 432x288 with 1 Axes>"
            ]
          },
          "metadata": {
            "needs_background": "light"
          }
        }
      ]
    },
    {
      "cell_type": "code",
      "metadata": {
        "id": "F6L9YZwprtD7"
      },
      "source": [
        ""
      ],
      "execution_count": 28,
      "outputs": []
    }
  ]
}